{
 "cells": [
  {
   "cell_type": "code",
   "execution_count": 2,
   "metadata": {},
   "outputs": [
    {
     "ename": "TypeError",
     "evalue": "startup() missing 1 required positional argument: 'choice'",
     "output_type": "error",
     "traceback": [
      "\u001b[1;31m---------------------------------------------------------------------------\u001b[0m",
      "\u001b[1;31mTypeError\u001b[0m                                 Traceback (most recent call last)",
      "\u001b[1;32m<ipython-input-2-929ac5822b7b>\u001b[0m in \u001b[0;36m<module>\u001b[1;34m\u001b[0m\n\u001b[0;32m      4\u001b[0m \u001b[1;32mimport\u001b[0m \u001b[0margparse\u001b[0m \u001b[1;31m# so we can call a new game from the command line\u001b[0m\u001b[1;33m\u001b[0m\u001b[1;33m\u001b[0m\u001b[0m\n\u001b[0;32m      5\u001b[0m \u001b[1;33m\u001b[0m\u001b[0m\n\u001b[1;32m----> 6\u001b[1;33m \u001b[0mstartup\u001b[0m\u001b[1;33m(\u001b[0m\u001b[1;33m)\u001b[0m\u001b[1;33m\u001b[0m\u001b[1;33m\u001b[0m\u001b[0m\n\u001b[0m",
      "\u001b[1;31mTypeError\u001b[0m: startup() missing 1 required positional argument: 'choice'"
     ]
    }
   ],
   "source": [
    "import cards.cardsAsClass as card\n",
    "import decks.decks as deck \n",
    "from helpers import startup\n",
    "import argparse # so we can call a new game from the command line\n",
    "\n",
    "parser = argparse.ArgumentParser()\n",
    "parser.add_argument(\"-a\", \"--action\", help=\"launch the app, specifiying whether to start a [newgame], [import] a deck\", type=str, default=\"newgame\")\n",
    "args = parser.parse_args()\n",
    "\n",
    "\"\"\"This file should be where instructions are entered by the user, and they can ask for help.\n",
    "\"\"\"\n",
    "\n",
    "startup(args.action.title())"
   ]
  }
 ],
 "metadata": {
  "kernelspec": {
   "display_name": "Python 3",
   "language": "python",
   "name": "python3"
  },
  "language_info": {
   "codemirror_mode": {
    "name": "ipython",
    "version": 3
   },
   "file_extension": ".py",
   "mimetype": "text/x-python",
   "name": "python",
   "nbconvert_exporter": "python",
   "pygments_lexer": "ipython3",
   "version": "3.7.3"
  }
 },
 "nbformat": 4,
 "nbformat_minor": 2
}
